{
 "cells": [
  {
   "cell_type": "code",
   "execution_count": 14,
   "metadata": {},
   "outputs": [],
   "source": [
    "from optimize import optimize\n",
    "import pandas as pd\n",
    "import seaborn as sns"
   ]
  },
  {
   "cell_type": "markdown",
   "metadata": {},
   "source": [
    "### Load Data"
   ]
  },
  {
   "cell_type": "code",
   "execution_count": null,
   "metadata": {},
   "outputs": [],
   "source": [
    "## commodity prices ##\n",
    "commodities = pd.read_csv('../Data/raw/commodity_prices.csv',index_col=['Date'])\n",
    "commodities.index = pd.to_datetime(commodities.index)\n",
    "\n",
    "## stock prices ##\n",
    "stocks = pd.read_csv('../Data/raw/stock_prices.csv',index_col=['Date'])\n",
    "stocks.index = pd.to_datetime(stocks.index)"
   ]
  },
  {
   "cell_type": "markdown",
   "metadata": {},
   "source": [
    "### Test optimizer"
   ]
  },
  {
   "cell_type": "code",
   "execution_count": 7,
   "metadata": {},
   "outputs": [
    {
     "name": "stdout",
     "output_type": "stream",
     "text": [
      "    threshold  streak  quantile  final_return\n",
      "30       0.85       3       0.5      1.000000\n",
      "45       0.90       5       0.4      1.000000\n",
      "33       0.85       5       0.4      1.000000\n",
      "34       0.85       5       0.5      1.000000\n",
      "35       0.85       5       0.6      1.000000\n",
      "36       0.90       2       0.3      1.000000\n",
      "37       0.90       2       0.4      1.000000\n",
      "38       0.90       2       0.5      1.000000\n",
      "39       0.90       2       0.6      1.000000\n",
      "40       0.90       3       0.3      1.000000\n",
      "41       0.90       3       0.4      1.000000\n",
      "42       0.90       3       0.5      1.000000\n",
      "43       0.90       3       0.6      1.000000\n",
      "44       0.90       5       0.3      1.000000\n",
      "46       0.90       5       0.5      1.000000\n",
      "31       0.85       3       0.6      1.000000\n",
      "47       0.90       5       0.6      1.000000\n",
      "48       0.95       2       0.3      1.000000\n",
      "49       0.95       2       0.4      1.000000\n",
      "50       0.95       2       0.5      1.000000\n",
      "51       0.95       2       0.6      1.000000\n",
      "52       0.95       3       0.3      1.000000\n",
      "53       0.95       3       0.4      1.000000\n",
      "54       0.95       3       0.5      1.000000\n",
      "55       0.95       3       0.6      1.000000\n",
      "56       0.95       5       0.3      1.000000\n",
      "57       0.95       5       0.4      1.000000\n",
      "58       0.95       5       0.5      1.000000\n",
      "32       0.85       5       0.3      1.000000\n",
      "59       0.95       5       0.6      1.000000\n",
      "15       0.80       2       0.6      1.000000\n",
      "20       0.80       5       0.3      1.000000\n",
      "12       0.80       2       0.3      1.000000\n",
      "13       0.80       2       0.4      1.000000\n",
      "14       0.80       2       0.5      1.000000\n",
      "29       0.85       3       0.4      1.000000\n",
      "17       0.80       3       0.4      1.000000\n",
      "18       0.80       3       0.5      1.000000\n",
      "19       0.80       3       0.6      1.000000\n",
      "16       0.80       3       0.3      1.000000\n",
      "21       0.80       5       0.4      1.000000\n",
      "22       0.80       5       0.5      1.000000\n",
      "23       0.80       5       0.6      1.000000\n",
      "24       0.85       2       0.3      1.000000\n",
      "25       0.85       2       0.4      1.000000\n",
      "26       0.85       2       0.5      1.000000\n",
      "27       0.85       2       0.6      1.000000\n",
      "28       0.85       3       0.3      1.000000\n",
      "7        0.30       3       0.6      0.899859\n",
      "3        0.30       2       0.6      0.886370\n",
      "11       0.30       5       0.6      0.882690\n",
      "10       0.30       5       0.5      0.589372\n",
      "6        0.30       3       0.5      0.582490\n",
      "9        0.30       5       0.4      0.568019\n",
      "5        0.30       3       0.4      0.561880\n",
      "8        0.30       5       0.3      0.550629\n",
      "2        0.30       2       0.5      0.546337\n",
      "4        0.30       3       0.3      0.545598\n",
      "0        0.30       2       0.3      0.449483\n",
      "1        0.30       2       0.4      0.433146\n"
     ]
    }
   ],
   "source": [
    "\n",
    "# Example pair\n",
    "commodity = commodities['SI=F Close']\n",
    "stock = stocks['SNAP']\n",
    "\n",
    "param_grid = {\n",
    "    'threshold': [0.3, 0.80, 0.85, 0.90, 0.95],\n",
    "    'streak': [2, 3, 5],\n",
    "    'quantile': [0.3, 0.4, 0.5, 0.6]\n",
    "}\n",
    "\n",
    "results = optimize(commodity, stock, param_grid)\n",
    "print(results)"
   ]
  }
 ],
 "metadata": {
  "kernelspec": {
   "display_name": "workenv",
   "language": "python",
   "name": "python3"
  },
  "language_info": {
   "codemirror_mode": {
    "name": "ipython",
    "version": 3
   },
   "file_extension": ".py",
   "mimetype": "text/x-python",
   "name": "python",
   "nbconvert_exporter": "python",
   "pygments_lexer": "ipython3",
   "version": "3.12.1"
  }
 },
 "nbformat": 4,
 "nbformat_minor": 2
}

{
 "cells": [
  {
   "cell_type": "code",
   "execution_count": null,
   "id": "4ae0655d",
   "metadata": {},
   "outputs": [],
   "source": [
    "from fredapi import Fred\n",
    "import yfinance as yf\n",
    "import pandas_datareader.data as web\n",
    "import pandas as pd"
   ]
  },
  {
   "cell_type": "markdown",
   "id": "62d2769a",
   "metadata": {},
   "source": [
    "## Import Stock Data"
   ]
  },
  {
   "cell_type": "code",
   "execution_count": 2,
   "id": "d63a69e0",
   "metadata": {},
   "outputs": [],
   "source": [
    "### Current Tickers ###\n",
    "mineral_stocks = [\n",
    "    'GC=F',  # Gold\n",
    "    'HG=F',  # Copper\n",
    "    'PA=F',  # Palladium\n",
    "    'PL=F',  # Platinum\n",
    "    'SI=F',  # Silver\n",
    "]\n",
    "\n",
    "growth_stocks = [\n",
    "    \"NVDA\",  # NVIDIA Corporation\n",
    "    \"MRVL\",  # Marvell Technology Inc.\n",
    "    \"FTNT\",  # Fortinet Inc.\n",
    "    \"AMD\",   # Advanced Micro Devices, Inc.\n",
    "    \"CRM\",   # Salesforce Inc.\n",
    "    \"ADBE\",  # Adobe Inc.\n",
    "    \"ZM\",    # Zoom Video Communications Inc.\n",
    "    \"SHOP\",  # Shopify Inc.\n",
    "    \"SNAP\",  # Snap Inc.\n",
    "    \"NET\",   # Cloudflare, Inc.\n",
    "    \"TWLO\",  # Twilio Inc.\n",
    "    \"MDB\",   # MongoDB, Inc.\n",
    "    \"RBLX\",  # Roblox Corporation\n",
    "    \"SNOW\",  # Snowflake Inc.\n",
    "    \"PINS\",  # Pinterest Inc.\n",
    "    \"TTD\",   # The Trade Desk\n",
    "    \"DOCU\",  # DocuSign, Inc.\n",
    "    'SLAB',  # Silicon Laboratories Inc.\n",
    "]\n",
    "\n",
    "value_stocks = [\n",
    "    \"AAPL\",  # Apple Inc.\n",
    "    \"MSFT\",  # Microsoft Corporation\n",
    "    \"INTC\",  # Intel Corporation\n",
    "    \"IBM\",   # International Business Machines Corporation\n",
    "    \"ORCL\",  # Oracle Corporation\n",
    "    \"CSCO\",  # Cisco Systems, Inc.\n",
    "    \"HPE\",   # Hewlett Packard Enterprise Co.\n",
    "    \"QCOM\",  # Qualcomm Incorporated\n",
    "    \"TXN\",   # Texas Instruments Incorporated\n",
    "    \"AVGO\",  # Broadcom Inc.\n",
    "    \"MU\",    # Micron Technology Inc.\n",
    "    \"LRCX\",  # Lam Research Corporation\n",
    "    \"STX\",   # Seagate Technology Holdings PLC\n",
    "    \"WDC\",   # Western Digital Corporation\n",
    "    \"ADI\",   # Analog Devices, Inc.\n",
    "    \"AMAT\",  # Applied Materials, Inc.\n",
    "    \"MSI\",   # Motorola Solutions, Inc.\n",
    "    \"VZ\",    # Verizon Communications Inc.\n",
    "    \"TMUS\"   # T-Mobile US, Inc.\n",
    "]\n",
    "\n",
    "market_indices = [\n",
    "    \"^DJI\",     # Dow Jones Industrial Average (United States)\n",
    "    \"^GSPC\",    # S&P 500 (United States)\n",
    "    \"^IXIC\",    # NASDAQ Composite (United States)\n",
    "    \"^N225\",    # Nikkei 225 (Japan)\n",
    "    \"^FTSE\",    # FTSE 100 (United Kingdom)\n",
    "    \"^GDAXI\",   # DAX (Germany)\n",
    "    \"^FCHI\",    # CAC 40 (France)\n",
    "    \"HSI\",      # Hang Seng Index (Hong Kong)\n",
    "    \"000001.SS\",# Shanghai Composite Index (China)\n",
    "    \"^BSESN\",   # SENSEX (India)\n",
    "    \"^NSEI\",    # Nifty 50 (India)\n",
    "    \"^KS11\",    # KOSPI (South Korea)\n",
    "    \"^AORD\",    # All Ordinaries (Australia)\n",
    "    \"^BVSP\",    # Bovespa (Brazil)\n",
    "    \"^MERV\",    # MERVAL (Argentina)\n",
    "    \"^TWII\",    # TAIEX (Taiwan)\n",
    "    \"^STI\",     # Straits Times Index (Singapore)\n",
    "    \"^JKSE\",    # Jakarta Composite Index (Indonesia)\n",
    "]"
   ]
  },
  {
   "cell_type": "markdown",
   "id": "1b57c7b0",
   "metadata": {},
   "source": [
    "## Download Financial Data"
   ]
  },
  {
   "cell_type": "code",
   "execution_count": null,
   "id": "b329660f",
   "metadata": {},
   "outputs": [],
   "source": [
    "start_date = \"2022-01-01\"\n",
    "\n",
    "\n",
    "### Download Mineral Data ###\n",
    "minerals = yf.download(mineral_stocks,start=start_date)[[\"Close\",\"Volume\"]]\n",
    "minerals = minerals.dropna()\n",
    "minerals.columns = [(x[1] +' '+ x[0]).strip() for x in minerals.columns.to_list()]\n",
    "\n",
    "\n",
    "\n",
    "## Download Closing Price of Growth and Value Stocks in One DataFrame ###\n",
    "all_stocks = growth_stocks + value_stocks\n",
    "stock_data = yf.download(all_stocks, start=start_date, progress=False)['Close']\n",
    "\n",
    "\n",
    "## worldwide markets\n",
    "worldwide_markets = yf.download(market_indices, start=start_date, progress=False)['Close']"
   ]
  },
  {
   "cell_type": "code",
   "execution_count": null,
   "id": "8945cce2",
   "metadata": {},
   "outputs": [],
   "source": [
    "### EFFECTIVE FEDERAL FUNDS RATE ###\n",
    "api_key = \"your api key\"\n",
    "fred = Fred(api_key=api_key)\n",
    "effr = fred.get_series('EFFR',observation_start=start_date)\n",
    "\n",
    "effr = pd.DataFrame(effr, columns = ['EFFR']).dropna()\n",
    "effr.reset_index(names='Date',inplace=True)\n",
    "\n",
    "\n",
    "### U.S. Dollar Index (DXY) ###\n",
    "dxy = yf.download(\"DX-Y.NYB\", start=start_date, interval=\"1d\")\n",
    "dxy.reset_index(inplace=True)\n",
    "dxy['Date'] = pd.to_datetime(pd.to_datetime(dxy['Date']).dt.date)\n",
    "dxy.columns = ['DXY ' + x[0]  if x[0] != 'Date' else x[0] for x in dxy.columns.to_list()]"
   ]
  },
  {
   "cell_type": "markdown",
   "id": "129ca409",
   "metadata": {},
   "source": [
    "## Export to CSV"
   ]
  },
  {
   "cell_type": "code",
   "execution_count": null,
   "id": "0b4def9f",
   "metadata": {},
   "outputs": [],
   "source": [
    "minerals.to_csv('raw/commodity_prices.csv')\n",
    "stock_data.to_csv('raw/stock_prices.csv')\n",
    "worldwide_markets.to_csv('raw/world_market_prices.csv')\n",
    "\n",
    "effr.to_csv('raw/effective_federal_funds_rate.csv',index=False)\n",
    "dxy.to_csv('raw/us_dollar_index.csv')"
   ]
  }
 ],
 "metadata": {
  "kernelspec": {
   "display_name": "workenv",
   "language": "python",
   "name": "python3"
  },
  "language_info": {
   "codemirror_mode": {
    "name": "ipython",
    "version": 3
   },
   "file_extension": ".py",
   "mimetype": "text/x-python",
   "name": "python",
   "nbconvert_exporter": "python",
   "pygments_lexer": "ipython3",
   "version": "3.12.1"
  }
 },
 "nbformat": 4,
 "nbformat_minor": 5
}
